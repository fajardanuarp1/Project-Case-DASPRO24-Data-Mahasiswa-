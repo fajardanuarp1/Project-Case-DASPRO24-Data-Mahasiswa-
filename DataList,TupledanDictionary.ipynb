{
 "cells": [
  {
   "cell_type": "code",
   "execution_count": null,
   "id": "4247c0d7-f478-42ad-be74-fd7b4809adeb",
   "metadata": {},
   "outputs": [
    {
     "name": "stdout",
     "output_type": "stream",
     "text": [
      "\n",
      "--- Menu ---\n",
      "1. Tambah Mahasiswa\n",
      "2. Tampilkan Seluruh Mahasiswa\n",
      "3. Cari Mahasiswa\n",
      "4. Update IPK Mahasiswa\n",
      "5. Hapus Mahasiswa\n",
      "6. Keluar\n"
     ]
    },
    {
     "name": "stdin",
     "output_type": "stream",
     "text": [
      "Pilihan Anda:  1\n",
      "Masukkan NIM:  12345678\n",
      "Masukkan Nama:  Budi\n",
      "Masukkan Jurusan:  Informatika\n",
      "Masukkan IPK:  3.5\n"
     ]
    },
    {
     "name": "stdout",
     "output_type": "stream",
     "text": [
      "Data mahasiswa berhasil ditambahkan!\n",
      "\n",
      "--- Menu ---\n",
      "1. Tambah Mahasiswa\n",
      "2. Tampilkan Seluruh Mahasiswa\n",
      "3. Cari Mahasiswa\n",
      "4. Update IPK Mahasiswa\n",
      "5. Hapus Mahasiswa\n",
      "6. Keluar\n"
     ]
    },
    {
     "name": "stdin",
     "output_type": "stream",
     "text": [
      "Pilihan Anda:  1\n",
      "Masukkan NIM:  87654321\n",
      "Masukkan Nama:  Siti\n",
      "Masukkan Jurusan:  Sistem Informasi\n",
      "Masukkan IPK:  3.8\n"
     ]
    },
    {
     "name": "stdout",
     "output_type": "stream",
     "text": [
      "Data mahasiswa berhasil ditambahkan!\n",
      "\n",
      "--- Menu ---\n",
      "1. Tambah Mahasiswa\n",
      "2. Tampilkan Seluruh Mahasiswa\n",
      "3. Cari Mahasiswa\n",
      "4. Update IPK Mahasiswa\n",
      "5. Hapus Mahasiswa\n",
      "6. Keluar\n"
     ]
    },
    {
     "name": "stdin",
     "output_type": "stream",
     "text": [
      "Pilihan Anda:  2\n"
     ]
    },
    {
     "name": "stdout",
     "output_type": "stream",
     "text": [
      "\n",
      "Data Mahasiswa:\n",
      "NIM: 12345678, Nama: Budi, Jurusan: Informatika, IPK: 3.5\n",
      "NIM: 87654321, Nama: Siti, Jurusan: Sistem Informasi, IPK: 3.8\n",
      "\n",
      "--- Menu ---\n",
      "1. Tambah Mahasiswa\n",
      "2. Tampilkan Seluruh Mahasiswa\n",
      "3. Cari Mahasiswa\n",
      "4. Update IPK Mahasiswa\n",
      "5. Hapus Mahasiswa\n",
      "6. Keluar\n"
     ]
    }
   ],
   "source": [
    "#Pengelolaan Data Mahasiswa\n",
    "\n",
    "#Dictionary untuk menyimpan data mahasiswa\n",
    "mahasiswa = {}\n",
    "\n",
    "# Fungsi untuk menambah mahasiswa\n",
    "def tambah_mahasiswa():\n",
    "    nim = input(\"Masukkan NIM: \")\n",
    "    if nim in mahasiswa:\n",
    "        print(\"NIM sudah terdaftar!\")\n",
    "        return\n",
    "    nama = input(\"Masukkan Nama: \")\n",
    "    jurusan = input(\"Masukkan Jurusan: \")\n",
    "    try:\n",
    "        ipk = float(input(\"Masukkan IPK: \"))\n",
    "    except ValueError:\n",
    "        print(\"IPK harus berupa angka.\")\n",
    "        return\n",
    "    mahasiswa[nim] = (nama, jurusan, ipk)\n",
    "    print(\"Data mahasiswa berhasil ditambahkan!\")\n",
    "\n",
    "# Fungsi untuk menampilkan seluruh data mahasiswa\n",
    "def tampilkan_mahasiswa():\n",
    "    if not mahasiswa:\n",
    "        print(\"Belum ada data mahasiswa.\")\n",
    "        return\n",
    "    print(\"\\nData Mahasiswa:\")\n",
    "    for nim, data in mahasiswa.items():\n",
    "        nama, jurusan, ipk = data\n",
    "        print(f\"NIM: {nim}, Nama: {nama}, Jurusan: {jurusan}, IPK: {ipk}\")\n",
    "\n",
    "# Fungsi untuk mencari mahasiswa berdasarkan NIM\n",
    "def cari_mahasiswa():\n",
    "    nim = input(\"Masukkan NIM yang dicari: \")\n",
    "    if nim in mahasiswa:\n",
    "        nama, jurusan, ipk = mahasiswa[nim]\n",
    "        print(f\"NIM: {nim}, Nama: {nama}, Jurusan: {jurusan}, IPK: {ipk}\")\n",
    "    else:\n",
    "        print(\"Mahasiswa tidak ditemukan.\")\n",
    "\n",
    "# Fungsi untuk mengupdate IPK mahasiswa\n",
    "def update_ipk():\n",
    "    nim = input(\"Masukkan NIM mahasiswa yang akan diupdate IPK-nya: \")\n",
    "    if nim in mahasiswa:\n",
    "        try:\n",
    "            ipk_baru = float(input(\"Masukkan IPK baru: \"))\n",
    "        except ValueError:\n",
    "            print(\"IPK harus berupa angka.\")\n",
    "            return\n",
    "        nama, jurusan, _ = mahasiswa[nim]\n",
    "        mahasiswa[nim] = (nama, jurusan, ipk_baru)\n",
    "        print(\"IPK berhasil diperbarui.\")\n",
    "    else:\n",
    "        print(\"Mahasiswa tidak ditemukan.\")\n",
    "\n",
    "# Fungsi untuk menghapus data mahasiswa berdasarkan NIM\n",
    "def hapus_mahasiswa():\n",
    "    nim = input(\"Masukkan NIM mahasiswa yang akan dihapus: \")\n",
    "    if nim in mahasiswa:\n",
    "        del mahasiswa[nim]\n",
    "        print(\"Data mahasiswa berhasil dihapus.\")\n",
    "    else:\n",
    "        print(\"Mahasiswa tidak ditemukan.\")\n",
    "\n",
    "# Menu interaktif\n",
    "def menu():\n",
    "    while True:\n",
    "        print(\"\\n--- Menu ---\")\n",
    "        print(\"1. Tambah Mahasiswa\")\n",
    "        print(\"2. Tampilkan Seluruh Mahasiswa\")\n",
    "        print(\"3. Cari Mahasiswa\")\n",
    "        print(\"4. Update IPK Mahasiswa\")\n",
    "        print(\"5. Hapus Mahasiswa\")\n",
    "        print(\"6. Keluar\")\n",
    "        pilihan = input(\"Pilihan Anda: \")\n",
    "\n",
    "        if pilihan == \"1\":\n",
    "            tambah_mahasiswa()\n",
    "        elif pilihan == \"2\":\n",
    "            tampilkan_mahasiswa()\n",
    "        elif pilihan == \"3\":\n",
    "            cari_mahasiswa()\n",
    "        elif pilihan == \"4\":\n",
    "            update_ipk()\n",
    "        elif pilihan == \"5\":\n",
    "            hapus_mahasiswa()\n",
    "        elif pilihan == \"6\":\n",
    "            print(\"Terima kasih. Have a nice Today.\")\n",
    "            break\n",
    "        else:\n",
    "            print(\"Pilihan tidak valid. Silakan coba lagi.\")\n",
    "\n",
    "# Jalankan program\n",
    "menu()\n"
   ]
  }
 ],
 "metadata": {
  "kernelspec": {
   "display_name": "Python [conda env:base] *",
   "language": "python",
   "name": "conda-base-py"
  },
  "language_info": {
   "codemirror_mode": {
    "name": "ipython",
    "version": 3
   },
   "file_extension": ".py",
   "mimetype": "text/x-python",
   "name": "python",
   "nbconvert_exporter": "python",
   "pygments_lexer": "ipython3",
   "version": "3.12.7"
  }
 },
 "nbformat": 4,
 "nbformat_minor": 5
}
